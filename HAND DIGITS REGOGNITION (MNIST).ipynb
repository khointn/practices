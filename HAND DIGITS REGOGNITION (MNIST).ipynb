{
 "cells": [
  {
   "cell_type": "markdown",
   "metadata": {},
   "source": [
    "# MNIST HAND-DIGITS REGCONITION\n",
    "\n",
    "## Introduction & Dataset\n",
    "\n",
    "The MNIST database (Modified National Institute of Standards and Technology database) is a large and famous database of handwritten digits that is commonly used for training various image processing systems. Since MNIST is like the \"Hello World\" of machine learning with, I have tried out a few machine learning algorithms to enhanced my skills and get acquainted to the algorithms.\n",
    "\n",
    "![](https://upload.wikimedia.org/wikipedia/commons/2/27/MnistExamples.png)\n",
    "\n",
    "This is my assignment for Developer Innovation Challenge of Facebook & Coder School VN\n",
    "\n",
    "## Objective\n",
    "\n",
    "I used 2 method to train this data: \n",
    "**Decision Tree & Random Forest\n",
    "Neural Network**\n",
    "\n",
    "Mainly used libraries: Sklearn, GridSearchCV to build model and train data."
   ]
  },
  {
   "cell_type": "markdown",
   "metadata": {},
   "source": [
    "For easy to understand how this data set was built, I get an example image, which contains number 7 from mist.\n",
    "1. Resize it from 28x28 to 10X10 and make diagram. Each pixel in image contains value from 0 to 255. The greater the number, the whiter the color. That is the way how people encode the image. [Link](https://www.scan2cad.com/tips/bitmap-vs-vector/) for further information.\n",
    "2. Because each observation should be one line in dataset so we reshape 2-D array to 1-D array. Using 1-D array as feature vector and label it. In our case, it's 7.\n",
    "3. Do it again with the other images from mist. We will have a table with feature vector and label. Take a close look at first and third observation. The pattern of them are much similar than second observation. Base on this thing, we hope that can build a model that classify a number using feature vector.\n",
    "\n",
    "Let's do it.\n",
    "\n",
    "**Illustration Picture (copy from internet)**\n",
    "![Imgur](https://i.imgur.com/wtFCKS3.jpg)"
   ]
  },
  {
   "cell_type": "markdown",
   "metadata": {},
   "source": [
    "# READ DATASET"
   ]
  },
  {
   "cell_type": "code",
   "execution_count": 1,
   "metadata": {},
   "outputs": [],
   "source": [
    "# Import libraries\n",
    "import pandas as pd\n",
    "import numpy as np\n",
    "import matplotlib.pyplot as plt\n",
    "import seaborn as sns\n",
    "from sklearn.ensemble import RandomForestClassifier\n",
    "from sklearn.tree import DecisionTreeClassifier\n",
    "from sklearn.metrics import accuracy_score, confusion_matrix"
   ]
  },
  {
   "cell_type": "code",
   "execution_count": 2,
   "metadata": {},
   "outputs": [
    {
     "name": "stdout",
     "output_type": "stream",
     "text": [
      "<class 'pandas.core.frame.DataFrame'>\n",
      "RangeIndex: 42000 entries, 0 to 41999\n",
      "Columns: 785 entries, label to pixel783\n",
      "dtypes: int64(785)\n",
      "memory usage: 251.5 MB\n"
     ]
    }
   ],
   "source": [
    "# Import dataset\n",
    "data = pd.read_csv(r\"C:\\Users\\Asus\\Downloads\\Dataset\\CSML_W4\\data\\train.csv\")\n",
    "data.info()"
   ]
  },
  {
   "cell_type": "code",
   "execution_count": 3,
   "metadata": {},
   "outputs": [
    {
     "data": {
      "text/html": [
       "<div>\n",
       "<style scoped>\n",
       "    .dataframe tbody tr th:only-of-type {\n",
       "        vertical-align: middle;\n",
       "    }\n",
       "\n",
       "    .dataframe tbody tr th {\n",
       "        vertical-align: top;\n",
       "    }\n",
       "\n",
       "    .dataframe thead th {\n",
       "        text-align: right;\n",
       "    }\n",
       "</style>\n",
       "<table border=\"1\" class=\"dataframe\">\n",
       "  <thead>\n",
       "    <tr style=\"text-align: right;\">\n",
       "      <th></th>\n",
       "      <th>label</th>\n",
       "      <th>pixel0</th>\n",
       "      <th>pixel1</th>\n",
       "      <th>pixel2</th>\n",
       "      <th>pixel3</th>\n",
       "      <th>pixel4</th>\n",
       "      <th>pixel5</th>\n",
       "      <th>pixel6</th>\n",
       "      <th>pixel7</th>\n",
       "      <th>pixel8</th>\n",
       "      <th>...</th>\n",
       "      <th>pixel774</th>\n",
       "      <th>pixel775</th>\n",
       "      <th>pixel776</th>\n",
       "      <th>pixel777</th>\n",
       "      <th>pixel778</th>\n",
       "      <th>pixel779</th>\n",
       "      <th>pixel780</th>\n",
       "      <th>pixel781</th>\n",
       "      <th>pixel782</th>\n",
       "      <th>pixel783</th>\n",
       "    </tr>\n",
       "  </thead>\n",
       "  <tbody>\n",
       "    <tr>\n",
       "      <th>0</th>\n",
       "      <td>1</td>\n",
       "      <td>0</td>\n",
       "      <td>0</td>\n",
       "      <td>0</td>\n",
       "      <td>0</td>\n",
       "      <td>0</td>\n",
       "      <td>0</td>\n",
       "      <td>0</td>\n",
       "      <td>0</td>\n",
       "      <td>0</td>\n",
       "      <td>...</td>\n",
       "      <td>0</td>\n",
       "      <td>0</td>\n",
       "      <td>0</td>\n",
       "      <td>0</td>\n",
       "      <td>0</td>\n",
       "      <td>0</td>\n",
       "      <td>0</td>\n",
       "      <td>0</td>\n",
       "      <td>0</td>\n",
       "      <td>0</td>\n",
       "    </tr>\n",
       "    <tr>\n",
       "      <th>1</th>\n",
       "      <td>0</td>\n",
       "      <td>0</td>\n",
       "      <td>0</td>\n",
       "      <td>0</td>\n",
       "      <td>0</td>\n",
       "      <td>0</td>\n",
       "      <td>0</td>\n",
       "      <td>0</td>\n",
       "      <td>0</td>\n",
       "      <td>0</td>\n",
       "      <td>...</td>\n",
       "      <td>0</td>\n",
       "      <td>0</td>\n",
       "      <td>0</td>\n",
       "      <td>0</td>\n",
       "      <td>0</td>\n",
       "      <td>0</td>\n",
       "      <td>0</td>\n",
       "      <td>0</td>\n",
       "      <td>0</td>\n",
       "      <td>0</td>\n",
       "    </tr>\n",
       "    <tr>\n",
       "      <th>2</th>\n",
       "      <td>1</td>\n",
       "      <td>0</td>\n",
       "      <td>0</td>\n",
       "      <td>0</td>\n",
       "      <td>0</td>\n",
       "      <td>0</td>\n",
       "      <td>0</td>\n",
       "      <td>0</td>\n",
       "      <td>0</td>\n",
       "      <td>0</td>\n",
       "      <td>...</td>\n",
       "      <td>0</td>\n",
       "      <td>0</td>\n",
       "      <td>0</td>\n",
       "      <td>0</td>\n",
       "      <td>0</td>\n",
       "      <td>0</td>\n",
       "      <td>0</td>\n",
       "      <td>0</td>\n",
       "      <td>0</td>\n",
       "      <td>0</td>\n",
       "    </tr>\n",
       "    <tr>\n",
       "      <th>3</th>\n",
       "      <td>4</td>\n",
       "      <td>0</td>\n",
       "      <td>0</td>\n",
       "      <td>0</td>\n",
       "      <td>0</td>\n",
       "      <td>0</td>\n",
       "      <td>0</td>\n",
       "      <td>0</td>\n",
       "      <td>0</td>\n",
       "      <td>0</td>\n",
       "      <td>...</td>\n",
       "      <td>0</td>\n",
       "      <td>0</td>\n",
       "      <td>0</td>\n",
       "      <td>0</td>\n",
       "      <td>0</td>\n",
       "      <td>0</td>\n",
       "      <td>0</td>\n",
       "      <td>0</td>\n",
       "      <td>0</td>\n",
       "      <td>0</td>\n",
       "    </tr>\n",
       "    <tr>\n",
       "      <th>4</th>\n",
       "      <td>0</td>\n",
       "      <td>0</td>\n",
       "      <td>0</td>\n",
       "      <td>0</td>\n",
       "      <td>0</td>\n",
       "      <td>0</td>\n",
       "      <td>0</td>\n",
       "      <td>0</td>\n",
       "      <td>0</td>\n",
       "      <td>0</td>\n",
       "      <td>...</td>\n",
       "      <td>0</td>\n",
       "      <td>0</td>\n",
       "      <td>0</td>\n",
       "      <td>0</td>\n",
       "      <td>0</td>\n",
       "      <td>0</td>\n",
       "      <td>0</td>\n",
       "      <td>0</td>\n",
       "      <td>0</td>\n",
       "      <td>0</td>\n",
       "    </tr>\n",
       "  </tbody>\n",
       "</table>\n",
       "<p>5 rows × 785 columns</p>\n",
       "</div>"
      ],
      "text/plain": [
       "   label  pixel0  pixel1  pixel2  pixel3  pixel4  pixel5  pixel6  pixel7  \\\n",
       "0      1       0       0       0       0       0       0       0       0   \n",
       "1      0       0       0       0       0       0       0       0       0   \n",
       "2      1       0       0       0       0       0       0       0       0   \n",
       "3      4       0       0       0       0       0       0       0       0   \n",
       "4      0       0       0       0       0       0       0       0       0   \n",
       "\n",
       "   pixel8  ...  pixel774  pixel775  pixel776  pixel777  pixel778  pixel779  \\\n",
       "0       0  ...         0         0         0         0         0         0   \n",
       "1       0  ...         0         0         0         0         0         0   \n",
       "2       0  ...         0         0         0         0         0         0   \n",
       "3       0  ...         0         0         0         0         0         0   \n",
       "4       0  ...         0         0         0         0         0         0   \n",
       "\n",
       "   pixel780  pixel781  pixel782  pixel783  \n",
       "0         0         0         0         0  \n",
       "1         0         0         0         0  \n",
       "2         0         0         0         0  \n",
       "3         0         0         0         0  \n",
       "4         0         0         0         0  \n",
       "\n",
       "[5 rows x 785 columns]"
      ]
     },
     "execution_count": 3,
     "metadata": {},
     "output_type": "execute_result"
    }
   ],
   "source": [
    "# Let's take a look at first 5 rows\n",
    "data.head()"
   ]
  },
  {
   "cell_type": "code",
   "execution_count": 4,
   "metadata": {},
   "outputs": [
    {
     "data": {
      "text/plain": [
       "array([1, 0, 4, 7, 3, 5, 8, 9, 2, 6], dtype=int64)"
      ]
     },
     "execution_count": 4,
     "metadata": {},
     "output_type": "execute_result"
    }
   ],
   "source": [
    "# List all unique values are there in 'label', expect to see a list from 0 to 9\n",
    "data['label'].unique()"
   ]
  },
  {
   "cell_type": "code",
   "execution_count": 5,
   "metadata": {},
   "outputs": [],
   "source": [
    "# defines X and y for train_test_split \n",
    "# y is the column 'label' and X is rest (784 pixel columns)\n",
    "list1=[]\n",
    "for i in range(784):\n",
    "    list1.append(str('pixel'+str(i)))\n",
    "X=np.array(data[list1])\n",
    "y=np.array([data['label']]).T"
   ]
  },
  {
   "cell_type": "code",
   "execution_count": 6,
   "metadata": {},
   "outputs": [],
   "source": [
    "# Train test split\n",
    "# Split X and y to X_train, y_train, X_test, y_test with 20% test size and random state 101\n",
    "from sklearn.model_selection import train_test_split\n",
    "X_train,X_test,y_train,y_test=train_test_split(X,y,test_size=0.2, random_state=101)"
   ]
  },
  {
   "cell_type": "markdown",
   "metadata": {},
   "source": [
    "# VISUALIZE DATA"
   ]
  },
  {
   "cell_type": "code",
   "execution_count": 7,
   "metadata": {},
   "outputs": [
    {
     "name": "stdout",
     "output_type": "stream",
     "text": [
      "Label: [8]\n"
     ]
    },
    {
     "data": {
      "image/png": "[encoded data removed]",
      "text/plain": [
       "<Figure size 432x288 with 1 Axes>"
      ]
     },
     "metadata": {
      "needs_background": "light"
     },
     "output_type": "display_data"
    }
   ],
   "source": [
    "# Convertd some example of our data back to image\n",
    "# Print out y_train[index] which is the number of the image\n",
    "# Using plt.imshow(img, cmap='gray') to plot the image 28x28 in height and width.\n",
    "# Before plotting, transformed the vector X_train[index] into 28x28 Matrix with the function reshape()\n",
    "#Try the number with index is 36\n",
    "index = 36\n",
    "print(\"Label: \" + str(y_train[index]))\n",
    "plt.imshow(X_train[index].reshape((28,28)),cmap='gray')\n",
    "plt.axis('off')\n",
    "plt.show()"
   ]
  },
  {
   "cell_type": "markdown",
   "metadata": {},
   "source": [
    "# METHOD 1: DECISION TREE & RANDOM FOREST USING SKLEARN TOOL"
   ]
  },
  {
   "cell_type": "markdown",
   "metadata": {},
   "source": [
    "## Train model"
   ]
  },
  {
   "cell_type": "code",
   "execution_count": 8,
   "metadata": {},
   "outputs": [],
   "source": [
    "# Random Forest & Decision Tree\n",
    "# Defined two classifier called rfc and dtc represent RandomForestClassifier and DecisionTreeClassifier\n",
    "from sklearn.tree import DecisionTreeClassifier\n",
    "dtc=DecisionTreeClassifier()\n",
    "dtc.fit(X_train, y_train)\n",
    "y_predict=dtc.predict(X_test)"
   ]
  },
  {
   "cell_type": "code",
   "execution_count": 9,
   "metadata": {},
   "outputs": [
    {
     "name": "stderr",
     "output_type": "stream",
     "text": [
      "C:\\Users\\Asus\\Anaconda3\\lib\\site-packages\\sklearn\\ensemble\\forest.py:245: FutureWarning: The default value of n_estimators will change from 10 in version 0.20 to 100 in 0.22.\n",
      "  \"10 in version 0.20 to 100 in 0.22.\", FutureWarning)\n",
      "C:\\Users\\Asus\\Anaconda3\\lib\\site-packages\\ipykernel_launcher.py:4: DataConversionWarning: A column-vector y was passed when a 1d array was expected. Please change the shape of y to (n_samples,), for example using ravel().\n",
      "  after removing the cwd from sys.path.\n"
     ]
    }
   ],
   "source": [
    "# Fit training data to Random Forest Classifier\n",
    "from sklearn.ensemble import RandomForestClassifier as rc\n",
    "rfc=rc()\n",
    "rfc.fit(X_train,y_train)\n",
    "y_predictrfc=rfc.predict(X_test)"
   ]
  },
  {
   "cell_type": "markdown",
   "metadata": {},
   "source": [
    "## Evaluate model"
   ]
  },
  {
   "cell_type": "code",
   "execution_count": 10,
   "metadata": {},
   "outputs": [
    {
     "data": {
      "text/plain": [
       "0.9398809523809524"
      ]
     },
     "execution_count": 10,
     "metadata": {},
     "output_type": "execute_result"
    }
   ],
   "source": [
    "# Apply the models to testing set and take a look at accuracy score.\n",
    "# Random Forest model:\n",
    "from sklearn.metrics import accuracy_score\n",
    "accuracy_score(y_test,y_predictrfc)"
   ]
  },
  {
   "cell_type": "code",
   "execution_count": 11,
   "metadata": {},
   "outputs": [
    {
     "data": {
      "text/plain": [
       "0.8513095238095238"
      ]
     },
     "execution_count": 11,
     "metadata": {},
     "output_type": "execute_result"
    }
   ],
   "source": [
    "# Decision Tree model:\n",
    "accuracy_score(y_test,y_predict)"
   ]
  },
  {
   "cell_type": "code",
   "execution_count": 12,
   "metadata": {},
   "outputs": [
    {
     "data": {
      "text/plain": [
       "<matplotlib.axes._subplots.AxesSubplot at 0x226800beba8>"
      ]
     },
     "execution_count": 12,
     "metadata": {},
     "output_type": "execute_result"
    },
    {
     "data": {
      "image/png": "[encoded data removed]",
      "text/plain": [
       "<Figure size 432x288 with 2 Axes>"
      ]
     },
     "metadata": {
      "needs_background": "light"
     },
     "output_type": "display_data"
    }
   ],
   "source": [
    "# Visualized the heatmap for confusion matrix of Random Forest model\n",
    "from sklearn.metrics import confusion_matrix\n",
    "cm=confusion_matrix(y_test,y_predictrfc)\n",
    "sns.heatmap(cm)"
   ]
  },
  {
   "cell_type": "code",
   "execution_count": 13,
   "metadata": {},
   "outputs": [
    {
     "data": {
      "text/plain": [
       "<matplotlib.axes._subplots.AxesSubplot at 0x226801dc4a8>"
      ]
     },
     "execution_count": 13,
     "metadata": {},
     "output_type": "execute_result"
    },
    {
     "data": {
      "image/png": "[encoded data removed]",
      "text/plain": [
       "<Figure size 432x288 with 2 Axes>"
      ]
     },
     "metadata": {
      "needs_background": "light"
     },
     "output_type": "display_data"
    }
   ],
   "source": [
    "# Heatmap for confusion matrix of Decision Tree model as well:\n",
    "cm=confusion_matrix(y_test,y_predict)\n",
    "sns.heatmap(cm)\n"
   ]
  },
  {
   "cell_type": "markdown",
   "metadata": {},
   "source": [
    "## Hyperparameter Tuning\n",
    "[Further reading](https://towardsdatascience.com/hyperparameter-tuning-the-random-forest-in-python-using-scikit-learn-28d2aa77dd74)"
   ]
  },
  {
   "cell_type": "code",
   "execution_count": 14,
   "metadata": {},
   "outputs": [
    {
     "name": "stderr",
     "output_type": "stream",
     "text": [
      "C:\\Users\\Asus\\Anaconda3\\lib\\site-packages\\ipykernel_launcher.py:11: DataConversionWarning: A column-vector y was passed when a 1d array was expected. Please change the shape of y to (n_samples,), for example using ravel().\n",
      "  # This is added back by InteractiveShellApp.init_path()\n",
      "C:\\Users\\Asus\\Anaconda3\\lib\\site-packages\\ipykernel_launcher.py:11: DataConversionWarning: A column-vector y was passed when a 1d array was expected. Please change the shape of y to (n_samples,), for example using ravel().\n",
      "  # This is added back by InteractiveShellApp.init_path()\n",
      "C:\\Users\\Asus\\Anaconda3\\lib\\site-packages\\ipykernel_launcher.py:11: DataConversionWarning: A column-vector y was passed when a 1d array was expected. Please change the shape of y to (n_samples,), for example using ravel().\n",
      "  # This is added back by InteractiveShellApp.init_path()\n",
      "C:\\Users\\Asus\\Anaconda3\\lib\\site-packages\\ipykernel_launcher.py:11: DataConversionWarning: A column-vector y was passed when a 1d array was expected. Please change the shape of y to (n_samples,), for example using ravel().\n",
      "  # This is added back by InteractiveShellApp.init_path()\n",
      "C:\\Users\\Asus\\Anaconda3\\lib\\site-packages\\ipykernel_launcher.py:11: DataConversionWarning: A column-vector y was passed when a 1d array was expected. Please change the shape of y to (n_samples,), for example using ravel().\n",
      "  # This is added back by InteractiveShellApp.init_path()\n",
      "C:\\Users\\Asus\\Anaconda3\\lib\\site-packages\\ipykernel_launcher.py:11: DataConversionWarning: A column-vector y was passed when a 1d array was expected. Please change the shape of y to (n_samples,), for example using ravel().\n",
      "  # This is added back by InteractiveShellApp.init_path()\n",
      "C:\\Users\\Asus\\Anaconda3\\lib\\site-packages\\ipykernel_launcher.py:11: DataConversionWarning: A column-vector y was passed when a 1d array was expected. Please change the shape of y to (n_samples,), for example using ravel().\n",
      "  # This is added back by InteractiveShellApp.init_path()\n",
      "C:\\Users\\Asus\\Anaconda3\\lib\\site-packages\\ipykernel_launcher.py:11: DataConversionWarning: A column-vector y was passed when a 1d array was expected. Please change the shape of y to (n_samples,), for example using ravel().\n",
      "  # This is added back by InteractiveShellApp.init_path()\n"
     ]
    }
   ],
   "source": [
    "# Base on the accuracy score I decided to take Random Forest as Classifier and improved it\n",
    "# Defined an array of number called 'n'- the set of 'n_estimators' (number of \"Tree\") that was going apply to our Random Forest algorithms\n",
    "n = [1 ,5 ,10, 20, 50, 100, 200, 500]\n",
    "result = []\n",
    "# Using a for-loop which goes through n\n",
    "# Inside the loop defined a new RandomForestClassifier model with appropriate 'n_estimators'\n",
    "# Applied the model on X_test and calculate the accuracy score then save it into 'result'\n",
    "for i in n:\n",
    "    clf = RandomForestClassifier(i)\n",
    "    clf.fit(X_train,y_train)\n",
    "    predictions = clf.predict(X_test)\n",
    "    result.append(accuracy_score(y_test,predictions))    "
   ]
  },
  {
   "cell_type": "code",
   "execution_count": 15,
   "metadata": {},
   "outputs": [
    {
     "name": "stdout",
     "output_type": "stream",
     "text": [
      "[0.8078571428571428, 0.9019047619047619, 0.9402380952380952, 0.9554761904761905, 0.9632142857142857, 0.9673809523809523, 0.9663095238095238, 0.9688095238095238]\n"
     ]
    },
    {
     "data": {
      "image/png": "[encoded data removed]",
      "text/plain": [
       "<Figure size 432x288 with 1 Axes>"
      ]
     },
     "metadata": {
      "needs_background": "light"
     },
     "output_type": "display_data"
    }
   ],
   "source": [
    "plt.scatter(result,n)\n",
    "print(result)"
   ]
  },
  {
   "cell_type": "markdown",
   "metadata": {},
   "source": [
    "## Save Model"
   ]
  },
  {
   "cell_type": "code",
   "execution_count": 16,
   "metadata": {},
   "outputs": [],
   "source": [
    "# Using pickle to export the trained model\n",
    "import pickle\n",
    "import os"
   ]
  },
  {
   "cell_type": "code",
   "execution_count": 17,
   "metadata": {},
   "outputs": [],
   "source": [
    "pickle.dump(rfc, open(os.path.join(r'C:\\Users\\Asus\\Downloads\\Dataset', 'HandDigitsPrediction.pkl'), 'wb'), protocol=4)"
   ]
  },
  {
   "cell_type": "code",
   "execution_count": 18,
   "metadata": {},
   "outputs": [],
   "source": [
    "with open(r'C:\\Users\\Asus\\Downloads\\Dataset\\HandDigitsPrediction.pkl', 'rb') as function:\n",
    " function=pickle.load(function)"
   ]
  },
  {
   "cell_type": "markdown",
   "metadata": {},
   "source": [
    "## Speed up training process using GridSearchCV"
   ]
  },
  {
   "cell_type": "code",
   "execution_count": 19,
   "metadata": {},
   "outputs": [],
   "source": [
    "from sklearn.model_selection import GridSearchCV"
   ]
  },
  {
   "cell_type": "code",
   "execution_count": 20,
   "metadata": {},
   "outputs": [
    {
     "name": "stderr",
     "output_type": "stream",
     "text": [
      "C:\\Users\\Asus\\Anaconda3\\lib\\site-packages\\sklearn\\model_selection\\_split.py:1978: FutureWarning: The default value of cv will change from 3 to 5 in version 0.22. Specify it explicitly to silence this warning.\n",
      "  warnings.warn(CV_WARNING, FutureWarning)\n",
      "C:\\Users\\Asus\\Anaconda3\\lib\\site-packages\\sklearn\\model_selection\\_search.py:714: DataConversionWarning: A column-vector y was passed when a 1d array was expected. Please change the shape of y to (n_samples,), for example using ravel().\n",
      "  self.best_estimator_.fit(X, y, **fit_params)\n"
     ]
    },
    {
     "data": {
      "text/plain": [
       "GridSearchCV(cv='warn', error_score='raise-deprecating',\n",
       "             estimator=RandomForestClassifier(bootstrap=True, class_weight=None,\n",
       "                                              criterion='gini', max_depth=None,\n",
       "                                              max_features='auto',\n",
       "                                              max_leaf_nodes=None,\n",
       "                                              min_impurity_decrease=0.0,\n",
       "                                              min_impurity_split=None,\n",
       "                                              min_samples_leaf=1,\n",
       "                                              min_samples_split=2,\n",
       "                                              min_weight_fraction_leaf=0.0,\n",
       "                                              n_estimators='warn', n_jobs=None,\n",
       "                                              oob_score=False,\n",
       "                                              random_state=None, verbose=0,\n",
       "                                              warm_start=False),\n",
       "             iid='warn', n_jobs=6,\n",
       "             param_grid={'n_estimators': [1, 5, 10, 20, 50, 100, 200, 500]},\n",
       "             pre_dispatch='2*n_jobs', refit=True, return_train_score=False,\n",
       "             scoring=None, verbose=0)"
      ]
     },
     "execution_count": 20,
     "metadata": {},
     "output_type": "execute_result"
    }
   ],
   "source": [
    "params_grid={\n",
    "    'n_estimators':[1,5,10,20,50,100,200,500]\n",
    "}\n",
    "\n",
    "gridcv=GridSearchCV(RandomForestClassifier(),params_grid,n_jobs= 6)\n",
    "gridcv.fit(X_train,y_train)"
   ]
  },
  {
   "cell_type": "code",
   "execution_count": 21,
   "metadata": {},
   "outputs": [
    {
     "data": {
      "text/plain": [
       "0.9616666666666667"
      ]
     },
     "execution_count": 21,
     "metadata": {},
     "output_type": "execute_result"
    }
   ],
   "source": [
    "gridcv.best_score_"
   ]
  },
  {
   "cell_type": "code",
   "execution_count": 22,
   "metadata": {},
   "outputs": [
    {
     "data": {
      "text/html": [
       "<div>\n",
       "<style scoped>\n",
       "    .dataframe tbody tr th:only-of-type {\n",
       "        vertical-align: middle;\n",
       "    }\n",
       "\n",
       "    .dataframe tbody tr th {\n",
       "        vertical-align: top;\n",
       "    }\n",
       "\n",
       "    .dataframe thead th {\n",
       "        text-align: right;\n",
       "    }\n",
       "</style>\n",
       "<table border=\"1\" class=\"dataframe\">\n",
       "  <thead>\n",
       "    <tr style=\"text-align: right;\">\n",
       "      <th></th>\n",
       "      <th>mean_fit_time</th>\n",
       "      <th>std_fit_time</th>\n",
       "      <th>mean_score_time</th>\n",
       "      <th>std_score_time</th>\n",
       "      <th>param_n_estimators</th>\n",
       "      <th>params</th>\n",
       "      <th>split0_test_score</th>\n",
       "      <th>split1_test_score</th>\n",
       "      <th>split2_test_score</th>\n",
       "      <th>mean_test_score</th>\n",
       "      <th>std_test_score</th>\n",
       "      <th>rank_test_score</th>\n",
       "    </tr>\n",
       "  </thead>\n",
       "  <tbody>\n",
       "    <tr>\n",
       "      <th>0</th>\n",
       "      <td>3.804172</td>\n",
       "      <td>0.136739</td>\n",
       "      <td>0.123338</td>\n",
       "      <td>0.056002</td>\n",
       "      <td>1</td>\n",
       "      <td>{'n_estimators': 1}</td>\n",
       "      <td>0.780684</td>\n",
       "      <td>0.762500</td>\n",
       "      <td>0.775029</td>\n",
       "      <td>0.772738</td>\n",
       "      <td>0.007599</td>\n",
       "      <td>8</td>\n",
       "    </tr>\n",
       "    <tr>\n",
       "      <th>1</th>\n",
       "      <td>4.903899</td>\n",
       "      <td>0.025892</td>\n",
       "      <td>0.119348</td>\n",
       "      <td>0.003291</td>\n",
       "      <td>5</td>\n",
       "      <td>{'n_estimators': 5}</td>\n",
       "      <td>0.904758</td>\n",
       "      <td>0.892143</td>\n",
       "      <td>0.886755</td>\n",
       "      <td>0.894554</td>\n",
       "      <td>0.007544</td>\n",
       "      <td>7</td>\n",
       "    </tr>\n",
       "    <tr>\n",
       "      <th>2</th>\n",
       "      <td>4.036876</td>\n",
       "      <td>0.097264</td>\n",
       "      <td>0.192155</td>\n",
       "      <td>0.003291</td>\n",
       "      <td>10</td>\n",
       "      <td>{'n_estimators': 10}</td>\n",
       "      <td>0.935999</td>\n",
       "      <td>0.928036</td>\n",
       "      <td>0.924265</td>\n",
       "      <td>0.929435</td>\n",
       "      <td>0.004891</td>\n",
       "      <td>6</td>\n",
       "    </tr>\n",
       "    <tr>\n",
       "      <th>3</th>\n",
       "      <td>7.394568</td>\n",
       "      <td>0.040367</td>\n",
       "      <td>0.236701</td>\n",
       "      <td>0.022878</td>\n",
       "      <td>20</td>\n",
       "      <td>{'n_estimators': 20}</td>\n",
       "      <td>0.950549</td>\n",
       "      <td>0.943750</td>\n",
       "      <td>0.940252</td>\n",
       "      <td>0.944851</td>\n",
       "      <td>0.004275</td>\n",
       "      <td>5</td>\n",
       "    </tr>\n",
       "    <tr>\n",
       "      <th>4</th>\n",
       "      <td>15.673441</td>\n",
       "      <td>0.426452</td>\n",
       "      <td>0.527589</td>\n",
       "      <td>0.031790</td>\n",
       "      <td>50</td>\n",
       "      <td>{'n_estimators': 50}</td>\n",
       "      <td>0.962064</td>\n",
       "      <td>0.955714</td>\n",
       "      <td>0.951237</td>\n",
       "      <td>0.956339</td>\n",
       "      <td>0.004442</td>\n",
       "      <td>4</td>\n",
       "    </tr>\n",
       "    <tr>\n",
       "      <th>5</th>\n",
       "      <td>30.340240</td>\n",
       "      <td>0.400269</td>\n",
       "      <td>0.906579</td>\n",
       "      <td>0.017333</td>\n",
       "      <td>100</td>\n",
       "      <td>{'n_estimators': 100}</td>\n",
       "      <td>0.965009</td>\n",
       "      <td>0.958839</td>\n",
       "      <td>0.956060</td>\n",
       "      <td>0.959970</td>\n",
       "      <td>0.003740</td>\n",
       "      <td>3</td>\n",
       "    </tr>\n",
       "    <tr>\n",
       "      <th>6</th>\n",
       "      <td>64.361225</td>\n",
       "      <td>0.200251</td>\n",
       "      <td>1.626651</td>\n",
       "      <td>0.070372</td>\n",
       "      <td>200</td>\n",
       "      <td>{'n_estimators': 200}</td>\n",
       "      <td>0.965277</td>\n",
       "      <td>0.961161</td>\n",
       "      <td>0.955970</td>\n",
       "      <td>0.960804</td>\n",
       "      <td>0.003808</td>\n",
       "      <td>2</td>\n",
       "    </tr>\n",
       "    <tr>\n",
       "      <th>7</th>\n",
       "      <td>115.367694</td>\n",
       "      <td>0.454314</td>\n",
       "      <td>3.265234</td>\n",
       "      <td>0.047712</td>\n",
       "      <td>500</td>\n",
       "      <td>{'n_estimators': 500}</td>\n",
       "      <td>0.965813</td>\n",
       "      <td>0.960982</td>\n",
       "      <td>0.958203</td>\n",
       "      <td>0.961667</td>\n",
       "      <td>0.003144</td>\n",
       "      <td>1</td>\n",
       "    </tr>\n",
       "  </tbody>\n",
       "</table>\n",
       "</div>"
      ],
      "text/plain": [
       "   mean_fit_time  std_fit_time  mean_score_time  std_score_time  \\\n",
       "0       3.804172      0.136739         0.123338        0.056002   \n",
       "1       4.903899      0.025892         0.119348        0.003291   \n",
       "2       4.036876      0.097264         0.192155        0.003291   \n",
       "3       7.394568      0.040367         0.236701        0.022878   \n",
       "4      15.673441      0.426452         0.527589        0.031790   \n",
       "5      30.340240      0.400269         0.906579        0.017333   \n",
       "6      64.361225      0.200251         1.626651        0.070372   \n",
       "7     115.367694      0.454314         3.265234        0.047712   \n",
       "\n",
       "  param_n_estimators                 params  split0_test_score  \\\n",
       "0                  1    {'n_estimators': 1}           0.780684   \n",
       "1                  5    {'n_estimators': 5}           0.904758   \n",
       "2                 10   {'n_estimators': 10}           0.935999   \n",
       "3                 20   {'n_estimators': 20}           0.950549   \n",
       "4                 50   {'n_estimators': 50}           0.962064   \n",
       "5                100  {'n_estimators': 100}           0.965009   \n",
       "6                200  {'n_estimators': 200}           0.965277   \n",
       "7                500  {'n_estimators': 500}           0.965813   \n",
       "\n",
       "   split1_test_score  split2_test_score  mean_test_score  std_test_score  \\\n",
       "0           0.762500           0.775029         0.772738        0.007599   \n",
       "1           0.892143           0.886755         0.894554        0.007544   \n",
       "2           0.928036           0.924265         0.929435        0.004891   \n",
       "3           0.943750           0.940252         0.944851        0.004275   \n",
       "4           0.955714           0.951237         0.956339        0.004442   \n",
       "5           0.958839           0.956060         0.959970        0.003740   \n",
       "6           0.961161           0.955970         0.960804        0.003808   \n",
       "7           0.960982           0.958203         0.961667        0.003144   \n",
       "\n",
       "   rank_test_score  \n",
       "0                8  \n",
       "1                7  \n",
       "2                6  \n",
       "3                5  \n",
       "4                4  \n",
       "5                3  \n",
       "6                2  \n",
       "7                1  "
      ]
     },
     "execution_count": 22,
     "metadata": {},
     "output_type": "execute_result"
    }
   ],
   "source": [
    "#Create a dataframe using gridcv\n",
    "pd.DataFrame(gridcv.cv_results_)"
   ]
  },
  {
   "cell_type": "markdown",
   "metadata": {},
   "source": [
    "# METHOD 2: Logistic Regression\n",
    "Instead of building code lines with gradient descent algorithm (as I did with the Titanic Dataset), I will use Sklearn this time. But I also add the function which represented the Logistic Regression as a additional lines of code."
   ]
  },
  {
   "cell_type": "code",
   "execution_count": 23,
   "metadata": {},
   "outputs": [],
   "source": [
    "from sklearn.linear_model import LogisticRegression"
   ]
  },
  {
   "cell_type": "code",
   "execution_count": 24,
   "metadata": {},
   "outputs": [],
   "source": [
    "### ADDITIONAL LINE\n",
    "#sigmoid function:\n",
    "def sigmoid(s):\n",
    "    return 1/(1+np.exp(-s))"
   ]
  },
  {
   "cell_type": "code",
   "execution_count": 25,
   "metadata": {},
   "outputs": [],
   "source": [
    "### ADDITIONAL LINE\n",
    "#gradient descent:\n",
    "def logistic_regression(x,y,w_init,eta,tol=1e-5,max_count=100000000000):\n",
    "    m=x.shape[0]\n",
    "    n=x.shape[1]\n",
    "    w=[w_init]\n",
    "    count=0\n",
    "    check=20\n",
    "    while count<max_count:\n",
    "        mix=np.random.permutation(m)\n",
    "        for i in mix:\n",
    "            xi=x[i,:].reshape(n,1)\n",
    "            yi=y[i]\n",
    "            zi=sigmoid(np.dot(w[-1].T,xi))\n",
    "            w_new=w[-1]+eta*(yi-zi)*xi\n",
    "            count+=1\n",
    "            #stop\n",
    "            if count%check==0:\n",
    "                if np.linalg.norm(w_new-w[-check])<tol:\n",
    "                    return w[-1]\n",
    "            w.append(w_new)\n",
    "    return w[-1]"
   ]
  },
  {
   "cell_type": "code",
   "execution_count": 26,
   "metadata": {},
   "outputs": [
    {
     "name": "stderr",
     "output_type": "stream",
     "text": [
      "C:\\Users\\Asus\\Anaconda3\\lib\\site-packages\\sklearn\\linear_model\\logistic.py:432: FutureWarning: Default solver will be changed to 'lbfgs' in 0.22. Specify a solver to silence this warning.\n",
      "  FutureWarning)\n",
      "C:\\Users\\Asus\\Anaconda3\\lib\\site-packages\\sklearn\\linear_model\\logistic.py:432: FutureWarning: Default solver will be changed to 'lbfgs' in 0.22. Specify a solver to silence this warning.\n",
      "  FutureWarning)\n",
      "C:\\Users\\Asus\\Anaconda3\\lib\\site-packages\\sklearn\\linear_model\\logistic.py:432: FutureWarning: Default solver will be changed to 'lbfgs' in 0.22. Specify a solver to silence this warning.\n",
      "  FutureWarning)\n",
      "C:\\Users\\Asus\\Anaconda3\\lib\\site-packages\\sklearn\\linear_model\\logistic.py:432: FutureWarning: Default solver will be changed to 'lbfgs' in 0.22. Specify a solver to silence this warning.\n",
      "  FutureWarning)\n",
      "C:\\Users\\Asus\\Anaconda3\\lib\\site-packages\\sklearn\\svm\\base.py:929: ConvergenceWarning: Liblinear failed to converge, increase the number of iterations.\n",
      "  \"the number of iterations.\", ConvergenceWarning)\n",
      "C:\\Users\\Asus\\Anaconda3\\lib\\site-packages\\sklearn\\linear_model\\logistic.py:432: FutureWarning: Default solver will be changed to 'lbfgs' in 0.22. Specify a solver to silence this warning.\n",
      "  FutureWarning)\n",
      "C:\\Users\\Asus\\Anaconda3\\lib\\site-packages\\sklearn\\linear_model\\logistic.py:432: FutureWarning: Default solver will be changed to 'lbfgs' in 0.22. Specify a solver to silence this warning.\n",
      "  FutureWarning)\n",
      "C:\\Users\\Asus\\Anaconda3\\lib\\site-packages\\sklearn\\linear_model\\logistic.py:432: FutureWarning: Default solver will be changed to 'lbfgs' in 0.22. Specify a solver to silence this warning.\n",
      "  FutureWarning)\n",
      "C:\\Users\\Asus\\Anaconda3\\lib\\site-packages\\sklearn\\linear_model\\logistic.py:432: FutureWarning: Default solver will be changed to 'lbfgs' in 0.22. Specify a solver to silence this warning.\n",
      "  FutureWarning)\n",
      "C:\\Users\\Asus\\Anaconda3\\lib\\site-packages\\sklearn\\linear_model\\logistic.py:432: FutureWarning: Default solver will be changed to 'lbfgs' in 0.22. Specify a solver to silence this warning.\n",
      "  FutureWarning)\n",
      "C:\\Users\\Asus\\Anaconda3\\lib\\site-packages\\sklearn\\svm\\base.py:929: ConvergenceWarning: Liblinear failed to converge, increase the number of iterations.\n",
      "  \"the number of iterations.\", ConvergenceWarning)\n",
      "C:\\Users\\Asus\\Anaconda3\\lib\\site-packages\\sklearn\\linear_model\\logistic.py:432: FutureWarning: Default solver will be changed to 'lbfgs' in 0.22. Specify a solver to silence this warning.\n",
      "  FutureWarning)\n",
      "C:\\Users\\Asus\\Anaconda3\\lib\\site-packages\\sklearn\\svm\\base.py:929: ConvergenceWarning: Liblinear failed to converge, increase the number of iterations.\n",
      "  \"the number of iterations.\", ConvergenceWarning)\n"
     ]
    }
   ],
   "source": [
    "m=X_train.shape[0]\n",
    "n=X_train.shape[1]\n",
    "WW={}\n",
    "for i in range(10):# for each of digits from 0 to 10, we train it seperately.One loop will represent for 1 digit training.\n",
    "    list1=[]\n",
    "    for k in range(y_train.shape[0]): #resize the train data into 1 and 0 (1 is positive when y is the number training, else if y not the number training, y=0)\n",
    "        if y_train[k]==i:\n",
    "            list1.append(1)\n",
    "        else:\n",
    "            list1.append(0)\n",
    "    y1=np.array(list1)\n",
    "    clf = LogisticRegression().fit(X_train, y1)\n",
    "    y_predict=clf.predict_proba(X_train)\n",
    "    WW[i]=y_predict"
   ]
  },
  {
   "cell_type": "code",
   "execution_count": 27,
   "metadata": {},
   "outputs": [],
   "source": [
    "list2=[]\n",
    "for i in range(10):\n",
    "    list2.append(WW[i].tolist())"
   ]
  },
  {
   "cell_type": "code",
   "execution_count": 34,
   "metadata": {},
   "outputs": [
    {
     "data": {
      "text/plain": [
       "33600"
      ]
     },
     "execution_count": 34,
     "metadata": {},
     "output_type": "execute_result"
    }
   ],
   "source": [
    "#check the lens of train result\n",
    "len(list2[1])"
   ]
  },
  {
   "cell_type": "code",
   "execution_count": 35,
   "metadata": {},
   "outputs": [],
   "source": [
    "list_new={}\n",
    "for i in range(10):\n",
    "    listt=[]\n",
    "    for k in range(len(list2[i])):\n",
    "        listt.append(list2[i][k][1])\n",
    "        list_new[i]=listt"
   ]
  },
  {
   "cell_type": "code",
   "execution_count": 36,
   "metadata": {},
   "outputs": [],
   "source": [
    "data_proba=pd.DataFrame(list_new)"
   ]
  },
  {
   "cell_type": "code",
   "execution_count": 37,
   "metadata": {},
   "outputs": [],
   "source": [
    "data_proba.to_csv('data_proba.csv')"
   ]
  },
  {
   "cell_type": "code",
   "execution_count": 43,
   "metadata": {},
   "outputs": [
    {
     "data": {
      "text/html": [
       "<div>\n",
       "<style scoped>\n",
       "    .dataframe tbody tr th:only-of-type {\n",
       "        vertical-align: middle;\n",
       "    }\n",
       "\n",
       "    .dataframe tbody tr th {\n",
       "        vertical-align: top;\n",
       "    }\n",
       "\n",
       "    .dataframe thead th {\n",
       "        text-align: right;\n",
       "    }\n",
       "</style>\n",
       "<table border=\"1\" class=\"dataframe\">\n",
       "  <thead>\n",
       "    <tr style=\"text-align: right;\">\n",
       "      <th></th>\n",
       "      <th>0</th>\n",
       "      <th>1</th>\n",
       "      <th>2</th>\n",
       "      <th>3</th>\n",
       "      <th>4</th>\n",
       "      <th>5</th>\n",
       "      <th>6</th>\n",
       "      <th>7</th>\n",
       "      <th>8</th>\n",
       "      <th>9</th>\n",
       "    </tr>\n",
       "  </thead>\n",
       "  <tbody>\n",
       "    <tr>\n",
       "      <th>0</th>\n",
       "      <td>7.975045e-44</td>\n",
       "      <td>3.847470e-87</td>\n",
       "      <td>6.012537e-23</td>\n",
       "      <td>1.129601e-11</td>\n",
       "      <td>4.336411e-25</td>\n",
       "      <td>1.924193e-40</td>\n",
       "      <td>1.832616e-60</td>\n",
       "      <td>9.635738e-01</td>\n",
       "      <td>3.057692e-12</td>\n",
       "      <td>5.620166e-11</td>\n",
       "    </tr>\n",
       "    <tr>\n",
       "      <th>1</th>\n",
       "      <td>1.190756e-08</td>\n",
       "      <td>3.067718e-24</td>\n",
       "      <td>2.616751e-02</td>\n",
       "      <td>8.194145e-02</td>\n",
       "      <td>1.572645e-04</td>\n",
       "      <td>1.698436e-03</td>\n",
       "      <td>1.498423e-23</td>\n",
       "      <td>8.664674e-01</td>\n",
       "      <td>7.963643e-03</td>\n",
       "      <td>6.896132e-02</td>\n",
       "    </tr>\n",
       "    <tr>\n",
       "      <th>2</th>\n",
       "      <td>3.490513e-04</td>\n",
       "      <td>8.458936e-03</td>\n",
       "      <td>4.005551e-03</td>\n",
       "      <td>3.593487e-01</td>\n",
       "      <td>1.485200e-03</td>\n",
       "      <td>4.953043e-02</td>\n",
       "      <td>8.034572e-29</td>\n",
       "      <td>8.807708e-03</td>\n",
       "      <td>3.703759e-02</td>\n",
       "      <td>9.975709e-03</td>\n",
       "    </tr>\n",
       "    <tr>\n",
       "      <th>3</th>\n",
       "      <td>9.999103e-01</td>\n",
       "      <td>6.606115e-83</td>\n",
       "      <td>7.643282e-04</td>\n",
       "      <td>1.443970e-04</td>\n",
       "      <td>4.057213e-07</td>\n",
       "      <td>4.078687e-04</td>\n",
       "      <td>8.104660e-06</td>\n",
       "      <td>1.588764e-04</td>\n",
       "      <td>2.183415e-04</td>\n",
       "      <td>1.708118e-04</td>\n",
       "    </tr>\n",
       "    <tr>\n",
       "      <th>4</th>\n",
       "      <td>2.366401e-06</td>\n",
       "      <td>9.999779e-01</td>\n",
       "      <td>8.057694e-02</td>\n",
       "      <td>1.883796e-02</td>\n",
       "      <td>1.120224e-04</td>\n",
       "      <td>5.998305e-05</td>\n",
       "      <td>2.879090e-14</td>\n",
       "      <td>2.737263e-03</td>\n",
       "      <td>1.301027e-01</td>\n",
       "      <td>6.372595e-03</td>\n",
       "    </tr>\n",
       "    <tr>\n",
       "      <th>5</th>\n",
       "      <td>3.893065e-03</td>\n",
       "      <td>1.912588e-43</td>\n",
       "      <td>7.060639e-05</td>\n",
       "      <td>8.144045e-03</td>\n",
       "      <td>1.504738e-06</td>\n",
       "      <td>9.435324e-01</td>\n",
       "      <td>4.559206e-09</td>\n",
       "      <td>3.503884e-09</td>\n",
       "      <td>2.749533e-02</td>\n",
       "      <td>1.575646e-01</td>\n",
       "    </tr>\n",
       "    <tr>\n",
       "      <th>6</th>\n",
       "      <td>5.057199e-11</td>\n",
       "      <td>3.974918e-17</td>\n",
       "      <td>2.685620e-05</td>\n",
       "      <td>5.699865e-01</td>\n",
       "      <td>1.419288e-06</td>\n",
       "      <td>8.835505e-03</td>\n",
       "      <td>1.672772e-35</td>\n",
       "      <td>7.966016e-04</td>\n",
       "      <td>6.712216e-03</td>\n",
       "      <td>8.891904e-02</td>\n",
       "    </tr>\n",
       "    <tr>\n",
       "      <th>7</th>\n",
       "      <td>9.997552e-01</td>\n",
       "      <td>1.867777e-53</td>\n",
       "      <td>1.976484e-05</td>\n",
       "      <td>5.617452e-05</td>\n",
       "      <td>1.211852e-06</td>\n",
       "      <td>2.455819e-04</td>\n",
       "      <td>2.269798e-05</td>\n",
       "      <td>1.655246e-21</td>\n",
       "      <td>8.211308e-03</td>\n",
       "      <td>1.584365e-04</td>\n",
       "    </tr>\n",
       "    <tr>\n",
       "      <th>8</th>\n",
       "      <td>3.125977e-05</td>\n",
       "      <td>1.354190e-21</td>\n",
       "      <td>1.261640e-04</td>\n",
       "      <td>9.936329e-01</td>\n",
       "      <td>6.106287e-11</td>\n",
       "      <td>8.929819e-03</td>\n",
       "      <td>3.356834e-07</td>\n",
       "      <td>2.734506e-05</td>\n",
       "      <td>4.570474e-04</td>\n",
       "      <td>4.555001e-10</td>\n",
       "    </tr>\n",
       "    <tr>\n",
       "      <th>9</th>\n",
       "      <td>3.595372e-10</td>\n",
       "      <td>9.999847e-01</td>\n",
       "      <td>2.844329e-02</td>\n",
       "      <td>9.799486e-03</td>\n",
       "      <td>2.939586e-06</td>\n",
       "      <td>1.153297e-03</td>\n",
       "      <td>9.476692e-04</td>\n",
       "      <td>5.175800e-15</td>\n",
       "      <td>2.413872e-02</td>\n",
       "      <td>4.589744e-04</td>\n",
       "    </tr>\n",
       "  </tbody>\n",
       "</table>\n",
       "</div>"
      ],
      "text/plain": [
       "              0             1             2             3             4  \\\n",
       "0  7.975045e-44  3.847470e-87  6.012537e-23  1.129601e-11  4.336411e-25   \n",
       "1  1.190756e-08  3.067718e-24  2.616751e-02  8.194145e-02  1.572645e-04   \n",
       "2  3.490513e-04  8.458936e-03  4.005551e-03  3.593487e-01  1.485200e-03   \n",
       "3  9.999103e-01  6.606115e-83  7.643282e-04  1.443970e-04  4.057213e-07   \n",
       "4  2.366401e-06  9.999779e-01  8.057694e-02  1.883796e-02  1.120224e-04   \n",
       "5  3.893065e-03  1.912588e-43  7.060639e-05  8.144045e-03  1.504738e-06   \n",
       "6  5.057199e-11  3.974918e-17  2.685620e-05  5.699865e-01  1.419288e-06   \n",
       "7  9.997552e-01  1.867777e-53  1.976484e-05  5.617452e-05  1.211852e-06   \n",
       "8  3.125977e-05  1.354190e-21  1.261640e-04  9.936329e-01  6.106287e-11   \n",
       "9  3.595372e-10  9.999847e-01  2.844329e-02  9.799486e-03  2.939586e-06   \n",
       "\n",
       "              5             6             7             8             9  \n",
       "0  1.924193e-40  1.832616e-60  9.635738e-01  3.057692e-12  5.620166e-11  \n",
       "1  1.698436e-03  1.498423e-23  8.664674e-01  7.963643e-03  6.896132e-02  \n",
       "2  4.953043e-02  8.034572e-29  8.807708e-03  3.703759e-02  9.975709e-03  \n",
       "3  4.078687e-04  8.104660e-06  1.588764e-04  2.183415e-04  1.708118e-04  \n",
       "4  5.998305e-05  2.879090e-14  2.737263e-03  1.301027e-01  6.372595e-03  \n",
       "5  9.435324e-01  4.559206e-09  3.503884e-09  2.749533e-02  1.575646e-01  \n",
       "6  8.835505e-03  1.672772e-35  7.966016e-04  6.712216e-03  8.891904e-02  \n",
       "7  2.455819e-04  2.269798e-05  1.655246e-21  8.211308e-03  1.584365e-04  \n",
       "8  8.929819e-03  3.356834e-07  2.734506e-05  4.570474e-04  4.555001e-10  \n",
       "9  1.153297e-03  9.476692e-04  5.175800e-15  2.413872e-02  4.589744e-04  "
      ]
     },
     "execution_count": 43,
     "metadata": {},
     "output_type": "execute_result"
    }
   ],
   "source": [
    "#plot \n",
    "data_proba.head(10)"
   ]
  },
  {
   "cell_type": "code",
   "execution_count": 44,
   "metadata": {},
   "outputs": [],
   "source": [
    "array_proba=np.array(data_proba)"
   ]
  },
  {
   "cell_type": "code",
   "execution_count": 45,
   "metadata": {},
   "outputs": [],
   "source": [
    "y_upred=[]\n",
    "for i in array_proba:\n",
    "    count=-1\n",
    "    for k in i:\n",
    "        count+=1\n",
    "        if max(i)==k:\n",
    "            y_upred.append(count)"
   ]
  },
  {
   "cell_type": "code",
   "execution_count": 47,
   "metadata": {},
   "outputs": [
    {
     "data": {
      "text/plain": [
       "0.9425"
      ]
     },
     "execution_count": 47,
     "metadata": {},
     "output_type": "execute_result"
    }
   ],
   "source": [
    "#check the accuracy\n",
    "accuracy_score(y_train,y_upred)"
   ]
  },
  {
   "cell_type": "markdown",
   "metadata": {},
   "source": [
    "# Comments\n",
    "Since Random Forest enable its user to upgrade the accuracy by using a \"Forest of Decision Tree\", its accuracy was much higher than the ordinary Decision Tree method (0.939 vs 0.851)\n",
    "\n",
    "In the hyperparameter tunning, I tested a group of hyperparameters, which were represent number of \"Tree\" in a Random Forest. As you can see in the plotted map, we can see the more larger number the more accurate it was (but took more time to train). It seemed that 100 trees are enough to create an acceptable accuracy\n",
    "\n",
    "The Logistic Regression trained and has acceptable accuracy. But it was time-consuming when I trained it, more than the 500-tree I used in Hyperparameter tunning"
   ]
  },
  {
   "cell_type": "code",
   "execution_count": null,
   "metadata": {},
   "outputs": [],
   "source": []
  }
 ],
 "metadata": {
  "kernelspec": {
   "display_name": "Python 3",
   "language": "python",
   "name": "python3"
  },
  "language_info": {
   "codemirror_mode": {
    "name": "ipython",
    "version": 3
   },
   "file_extension": ".py",
   "mimetype": "text/x-python",
   "name": "python",
   "nbconvert_exporter": "python",
   "pygments_lexer": "ipython3",
   "version": "3.7.3"
  }
 },
 "nbformat": 4,
 "nbformat_minor": 2
}
